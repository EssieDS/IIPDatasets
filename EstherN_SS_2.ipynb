{
  "nbformat": 4,
  "nbformat_minor": 0,
  "metadata": {
    "colab": {
      "provenance": [],
      "authorship_tag": "ABX9TyO4FWVbOXYmuZeZsCCTP4Jm",
      "include_colab_link": true
    },
    "kernelspec": {
      "name": "python3",
      "display_name": "Python 3"
    },
    "language_info": {
      "name": "python"
    }
  },
  "cells": [
    {
      "cell_type": "markdown",
      "metadata": {
        "id": "view-in-github",
        "colab_type": "text"
      },
      "source": [
        "<a href=\"https://colab.research.google.com/github/EssieDS/IIPDatasets/blob/main/EstherN_SS_2.ipynb\" target=\"_parent\"><img src=\"https://colab.research.google.com/assets/colab-badge.svg\" alt=\"Open In Colab\"/></a>"
      ]
    },
    {
      "cell_type": "markdown",
      "source": [
        "# **Esther Ngaruiya**\n",
        "\n",
        " ### **Skill Sprint_Week2**"
      ],
      "metadata": {
        "id": "9jJy-mu9ejZM"
      }
    },
    {
      "cell_type": "markdown",
      "source": [
        "###**Discovery Section**"
      ],
      "metadata": {
        "id": "UQ48GT-o4xzd"
      }
    },
    {
      "cell_type": "markdown",
      "source": [
        "****\n",
        "The normal distribution, also known as the Gaussian distribution, is a probability distribution that is symmetric about the mean. It is characterized by its bell-shaped curve, where the majority of the data points are concentrated around the mean (the peak of the curve), and the probabilities for values further away from the mean taper off equally in both directions.\n",
        "\n",
        "The mathematical representation of the normal distribution is given by:\n",
        "\n",
        "$$\n",
        "f(x|\\mu, \\sigma) = \\frac{1}{\\sigma \\sqrt{2\\pi}} e^{ -\\frac{1}{2} \\left( \\frac{x - \\mu}{\\sigma} \\right)^2 }\n",
        "$$\n",
        "\n",
        "\n",
        "where:\n",
        "- \\(\\mu\\) is the mean.\n",
        "- \\(\\sigma\\) is the standard deviation.\n",
        "- \\(e\\) is the base of the natural logarithm.\n",
        "- \\(\\pi\\) is the constant Pi (approximately 3.14159).\n",
        "\n",
        "\n",
        "Properties of Normal Distribution\n",
        "\n",
        "Symmetry: The distribution is symmetric around the mean.\n",
        "Mean, Median, and Mode: In a perfectly normal distribution, the mean, median, and mode are all equal.\n",
        "\n",
        "68-95-99.7 Rule: Approximately 68% of the data falls within one standard deviation of the mean, 95% within two standard deviations, and 99.7% within three standard deviations.\n",
        "\n",
        "Asymptotic: The tails of the distribution approach the horizontal axis but never touch it.\n",
        "\n",
        "**Relevance in Machine Learning**\n",
        "Central Limit Theorem: This theorem states that the sum (or average) of a large number of independent, identically distributed variables will be approximately normally distributed, regardless of the original distribution of the variables. This underpins many statistical methods and justifies the use of the normal distribution in various machine learning algorithms.\n",
        "\n",
        "Assumption in Algorithms: Many machine learning algorithms, such as linear regression, logistic regression, and neural networks, assume that the data or the errors (residuals) follow a normal distribution. This assumption simplifies the computation and improves the efficiency of these algorithms.\n",
        "\n",
        "Data Transformation: When data is not normally distributed, it can sometimes be transformed to approximate a normal distribution. Common transformations include logarithmic, square root, and Box-Cox transformations. This can make the data more suitable for algorithms that assume normality.\n",
        "\n",
        "Statistical Testing: Many statistical tests, such as t-tests and ANOVA, rely on the assumption of normality. Ensuring that the data is normally distributed can improve the validity of these tests.\n",
        "\n",
        "Outlier Detection: In a normal distribution, data points that lie far from the mean (e.g., beyond three standard deviations) can be considered outliers. This helps in identifying and handling outliers in the data.\n",
        "\n",
        "Parameter Estimation: Parameters such as the mean and variance are easier to estimate and interpret when the data follows a normal distribution. This is particularly useful in probabilistic models and Bayesian statistics."
      ],
      "metadata": {
        "id": "ygkTEuO_flj7"
      }
    },
    {
      "cell_type": "markdown",
      "source": [
        "**2. What is Regression analysis in Machine Learning?**\n",
        "\n",
        "Regression analysis in machine learning is a statistical technique used to model and analyze the relationships between a dependent variable (often called the target variable) and one or more independent variables (often called features or predictors). The goal of regression analysis is to understand how the dependent variable changes when any one of the independent variables is varied, while the other independent variables are held fixed.\n"
      ],
      "metadata": {
        "id": "2B72dwsfkH1A"
      }
    },
    {
      "cell_type": "markdown",
      "source": [
        "**3. What is Linear Regression in Machine Learning? (If possible, provide an example)**\n",
        "Linear regression is a fundamental and widely used statistical technique in machine learning for modeling the relationship between a dependent variable (also known as the target or response variable) and one or more independent variables (also known as features or predictors). The relationship is modeled using a linear equation, where the output is a weighted sum of the input features plus a bias term.\n",
        "\n",
        "**Example of Linear Regression**\n",
        "Let us consider an example where we want to predict a student's final exam score based on the number of hours they studied.\n",
        "\n",
        "\n",
        "Suppose we have data for 10 students, where Hours Studied is the independent variable (x) and Final Exam Score is the dependent variable (y). We can create the model and use it for prediction as follows:"
      ],
      "metadata": {
        "id": "5ftf_6Ilr-ZW"
      }
    },
    {
      "cell_type": "code",
      "source": [
        "import numpy as np\n",
        "import matplotlib.pyplot as plt\n",
        "from sklearn.linear_model import LinearRegression\n",
        "\n",
        "# Data\n",
        "X = np.array([1, 2, 3, 4, 5, 6, 7, 8, 9, 10]).reshape(-1, 1)  # Independent variable (Hours Studied)\n",
        "y = np.array([50, 55, 65, 70, 75, 80, 85, 90, 95, 100])      # Dependent variable (Final Exam Score)\n",
        "\n",
        "# Create the model and fit it\n",
        "model = LinearRegression()\n",
        "model.fit(X, y)\n",
        "\n",
        "# Coefficients\n",
        "beta_0 = model.intercept_.round(2)\n",
        "beta_1 = model.coef_[0].round(2)\n",
        "\n",
        "print(f\"Intercept (beta_0): {beta_0}\")\n",
        "print(f\"Slope (beta_1): {beta_1}\")\n",
        "\n",
        "# Predicting using the model\n",
        "y_pred = model.predict(X)\n",
        "\n",
        "# Plot the results\n",
        "plt.scatter(X, y, color='blue', label='Actual Scores')\n",
        "plt.plot(X, y_pred, color='red', label='Fitted Line')\n",
        "plt.xlabel('Hours Studied')\n",
        "plt.ylabel('Final Exam Score')\n",
        "plt.title('Linear Regression: Hours Studied vs. Final Exam Score')\n",
        "plt.legend()\n",
        "plt.show()\n"
      ],
      "metadata": {
        "colab": {
          "base_uri": "https://localhost:8080/",
          "height": 508
        },
        "id": "tXeRIfJMWkLb",
        "outputId": "b2ac346e-3d85-4643-b7fb-38d8e0c6d58b"
      },
      "execution_count": null,
      "outputs": [
        {
          "output_type": "stream",
          "name": "stdout",
          "text": [
            "Intercept (beta_0): 46.33\n",
            "Slope (beta_1): 5.48\n"
          ]
        },
        {
          "output_type": "display_data",
          "data": {
            "text/plain": [
              "<Figure size 640x480 with 1 Axes>"
            ],
            "image/png": "[encoded data removed]"
          },
          "metadata": {}
        }
      ]
    },
    {
      "cell_type": "markdown",
      "source": [
        "** 4.What is Logistic Regression in Machine Learning? (If possible, provide an example)**\n",
        "Logistic regression is a statistical method used in machine learning for binary classification problems, where the goal is to predict one of two possible outcomes (e.g., yes/no, true/false, 1/0). Despite its name, logistic regression is actually a classification algorithm rather than a regression algorithm.\n",
        "\n",
        "Key Concepts of Logistic Regression\n",
        "Binary Classification: Logistic regression is primarily used for binary classification, where the dependent variable has two possible outcomes.\n",
        "Logistic Function (Sigmoid Function): The core of logistic regression is the logistic function, also known as the sigmoid function, which maps any real-valued number into the\n",
        "\n",
        "The sigmoid function is defined as:\n",
        "$$ \\sigma(z) = \\frac{1}{1 + e^{-z}} $$\n",
        "where\n",
        "$ z $ is a linear combination of the input features.\n",
        "\n",
        "Probability Output: Logistic regression outputs probabilities that a given input point belongs to a particular class. These probabilities can then be thresholded to predict the class label.\n",
        "Logit Function: The logit function is the inverse of the sigmoid function and is used to relate the linear combination of inputs to the log-odds of the probability of the target class.\n",
        "\n",
        "\n",
        "The logistic regression model can be written as:\n",
        "$$\n",
        "P(y=1|x) = \\sigma(\\beta_0 + \\beta_1 x_1 + \\beta_2 x_2 + \\ldots + \\beta_n x_n)\n",
        "$$\n",
        "where:\n",
        "- \\( P(y=1 \\mid x) \\) is the probability that the dependent variable \\( y \\) is 1 given the input features \\( x \\).\n",
        "\n",
        "- The sigmoid function \\( \\sigma(z) \\) is defined as:\n",
        "  $$\n",
        "  \\sigma(z) = \\frac{1}{1 + e^{-z}}\n",
        "  $$\n",
        "\n",
        "- \\( \\beta_0 \\) is the intercept.\n",
        "\n",
        "- \\( \\beta_1, \\beta_2, \\ldots, \\beta_n \\) are the coefficients of the model.\n",
        "\n",
        "\n",
        "Example of Logistic Regression\n",
        "We consider an example where we want to predict whether a student will pass (1) or fail (0) an exam based on the number of hours they studied.\n",
        "\n",
        "Suppose we have data for 10 students, where Hours Studied is the independent variable (x) and Pass/Fail is the dependent variable (y). We can create the model and use it for prediction as follows:\n",
        "\n"
      ],
      "metadata": {
        "id": "iU4I0RNrXFUH"
      }
    },
    {
      "cell_type": "code",
      "source": [
        "import numpy as np\n",
        "import matplotlib.pyplot as plt\n",
        "from sklearn.linear_model import LogisticRegression\n",
        "\n",
        "# Data\n",
        "X = np.array([1, 2, 3, 4, 5, 6, 7, 8, 9, 10]).reshape(-1, 1)  # Independent variable (Hours Studied)\n",
        "y = np.array([0, 0, 0, 0, 1, 1, 1, 1, 1, 1])                # Dependent variable (Pass/Fail)\n",
        "\n",
        "# Create the model and fit it\n",
        "model = LogisticRegression()\n",
        "model.fit(X, y)\n",
        "\n",
        "# Predicting using the model\n",
        "y_pred_prob = model.predict_proba(X)[:, 1]  # Probability of passing\n",
        "y_pred = model.predict(X)                  # Predicted class (0 or 1)\n",
        "\n",
        "# Plot the results\n",
        "plt.scatter(X, y, color='blue', label='Actual Outcomes')\n",
        "plt.plot(X, y_pred_prob, color='red', label='Predicted Probability')\n",
        "plt.xlabel('Hours Studied')\n",
        "plt.ylabel('Probability of Passing')\n",
        "plt.title('Logistic Regression: Hours Studied vs. Probability of Passing')\n",
        "plt.legend()\n",
        "plt.show()\n",
        "\n",
        "# Print model coefficients\n",
        "print(f\"Intercept: {model.intercept_[0].round(2)}\")\n",
        "print(f\"Coefficient: {model.coef_[0][0].round(2)}\")\n"
      ],
      "metadata": {
        "colab": {
          "base_uri": "https://localhost:8080/",
          "height": 508
        },
        "id": "3anKwTl2bTdh",
        "outputId": "6daf6c7d-405a-4513-c93a-a2f21d63069c"
      },
      "execution_count": null,
      "outputs": [
        {
          "output_type": "display_data",
          "data": {
            "text/plain": [
              "<Figure size 640x480 with 1 Axes>"
            ],
            "image/png": "[encoded data removed]"
          },
          "metadata": {}
        },
        {
          "output_type": "stream",
          "name": "stdout",
          "text": [
            "Intercept: -5.31\n",
            "Coefficient: 1.18\n"
          ]
        }
      ]
    },
    {
      "cell_type": "markdown",
      "source": [
        "**5. Differentiate between Classification and Regression in Machine Learning**\n",
        "\n",
        "Classification is used for problems where the output is a category or label, and the goal is to assign an input to one of these predefined categories.\n",
        "Regression is used for problems where the output is a continuous value, and the goal is to predict a numerical quantity based on input features. Here is a detailed differentiation between the two:\n",
        "\n",
        "**Classification**\n",
        "\n",
        "Output:\n",
        "\n",
        "The output is a class label or category. For example, predicting whether an email is \"spam\" or \"not spam,\" or whether a patient has a \"disease\" or \"no disease.\"\n",
        "Examples:\n",
        "\n",
        "Binary Classification: Predicting if a customer will buy a product (yes/no).\n",
        "Multiclass Classification: Identifying the type of animal in a picture (cat, dog, horse, etc.).\n",
        "Algorithms:\n",
        "\n",
        "Common classification algorithms include Logistic Regression, Decision Trees, Random Forests, Support Vector Machines (SVM), k-Nearest Neighbors (k-NN), and Neural Networks.\n",
        "Evaluation Metrics:\n",
        "\n",
        "Metrics for classification include Accuracy, Precision, Recall, F1 Score, and ROC-AUC.\n",
        "Applications:\n",
        "\n",
        "Image recognition, spam detection, sentiment analysis, medical diagnosis.\n",
        "\n",
        "**Regression**\n",
        "\n",
        "Output:\n",
        "\n",
        "The output is a real number or a continuous value. For example, predicting the price of a house or the temperature on a given day.\n",
        "Examples:\n",
        "\n",
        "Predicting the price of a house based on its features (size, location, number of bedrooms).\n",
        "Estimating the salary of an employee based on experience and education level.\n",
        "Algorithms:\n",
        "\n",
        "Common regression algorithms include Linear Regression, Polynomial Regression, Ridge Regression, Lasso Regression, and Regression Trees.\n",
        "Evaluation Metrics:\n",
        "\n",
        "Metrics for regression include Mean Absolute Error (MAE), Mean Squared Error (MSE), Root Mean Squared Error (RMSE), and R-squared (R²).\n",
        "Applications:\n",
        "\n",
        "Forecasting stock prices, predicting sales revenue, estimating demand for products."
      ],
      "metadata": {
        "id": "7vmK55pncMEZ"
      }
    },
    {
      "cell_type": "markdown",
      "source": [
        "\n",
        "### **Practice Section**"
      ],
      "metadata": {
        "id": "B7-imyRvss_r"
      }
    },
    {
      "cell_type": "code",
      "source": [
        "import pandas as pd\n",
        "import numpy as np\n",
        "import matplotlib.pyplot as plt\n",
        "import seaborn as sns\n",
        "from google.colab import drive\n",
        "from google.colab import files"
      ],
      "metadata": {
        "id": "x33ERaOyuexn"
      },
      "execution_count": null,
      "outputs": []
    },
    {
      "cell_type": "code",
      "source": [
        "!pip install openpyxl"
      ],
      "metadata": {
        "colab": {
          "base_uri": "https://localhost:8080/"
        },
        "id": "npSrEzDEsHl9",
        "outputId": "e96298a5-a405-4523-c692-6cd96fac4fe0"
      },
      "execution_count": null,
      "outputs": [
        {
          "output_type": "stream",
          "name": "stdout",
          "text": [
            "Requirement already satisfied: openpyxl in /usr/local/lib/python3.10/dist-packages (3.1.5)\n",
            "Requirement already satisfied: et-xmlfile in /usr/local/lib/python3.10/dist-packages (from openpyxl) (1.1.0)\n"
          ]
        }
      ]
    },
    {
      "cell_type": "code",
      "source": [
        "import os\n",
        "\n",
        "# List files in the current directory to verify the file name\n",
        "print(os.listdir())\n"
      ],
      "metadata": {
        "colab": {
          "base_uri": "https://localhost:8080/"
        },
        "id": "EU8SELJUsHJB",
        "outputId": "149763ad-17e4-438f-8bbf-7d194b14ecfc"
      },
      "execution_count": null,
      "outputs": [
        {
          "output_type": "stream",
          "name": "stdout",
          "text": [
            "['.config', 'sample_data']\n"
          ]
        }
      ]
    },
    {
      "cell_type": "code",
      "source": [
        "data = pd.read_excel('Dataset_SkillSprint_week2.xlsx', engine='openpyxl')\n",
        "data.head()"
      ],
      "metadata": {
        "colab": {
          "base_uri": "https://localhost:8080/",
          "height": 162
        },
        "id": "VBzm-q0zsVWB",
        "outputId": "04de526a-5f1d-4905-f3e2-d61e9eb6a39b"
      },
      "execution_count": null,
      "outputs": [
        {
          "output_type": "error",
          "ename": "NameError",
          "evalue": "name 'pd' is not defined",
          "traceback": [
            "\u001b[0;31m---------------------------------------------------------------------------\u001b[0m",
            "\u001b[0;31mNameError\u001b[0m                                 Traceback (most recent call last)",
            "\u001b[0;32m<ipython-input-1-ba3fd5ca5ec3>\u001b[0m in \u001b[0;36m<cell line: 1>\u001b[0;34m()\u001b[0m\n\u001b[0;32m----> 1\u001b[0;31m \u001b[0mdata\u001b[0m \u001b[0;34m=\u001b[0m \u001b[0mpd\u001b[0m\u001b[0;34m.\u001b[0m\u001b[0mread_excel\u001b[0m\u001b[0;34m(\u001b[0m\u001b[0;34m'Dataset_SkillSprint_week2.xlsx'\u001b[0m\u001b[0;34m,\u001b[0m \u001b[0mengine\u001b[0m\u001b[0;34m=\u001b[0m\u001b[0;34m'openpyxl'\u001b[0m\u001b[0;34m)\u001b[0m\u001b[0;34m\u001b[0m\u001b[0;34m\u001b[0m\u001b[0m\n\u001b[0m\u001b[1;32m      2\u001b[0m \u001b[0mdata\u001b[0m\u001b[0;34m.\u001b[0m\u001b[0mhead\u001b[0m\u001b[0;34m(\u001b[0m\u001b[0;34m)\u001b[0m\u001b[0;34m\u001b[0m\u001b[0;34m\u001b[0m\u001b[0m\n",
            "\u001b[0;31mNameError\u001b[0m: name 'pd' is not defined"
          ]
        }
      ]
    },
    {
      "cell_type": "markdown",
      "source": [
        "# New Section"
      ],
      "metadata": {
        "id": "khbt551EoXW7"
      }
    },
    {
      "cell_type": "markdown",
      "source": [],
      "metadata": {
        "id": "dzkPSfgzn69b"
      }
    },
    {
      "cell_type": "code",
      "source": [
        "#Data Understanding\n",
        "data.shape"
      ],
      "metadata": {
        "colab": {
          "base_uri": "https://localhost:8080/"
        },
        "id": "Iy0lyC3Hus2x",
        "outputId": "88fd48d7-e57c-4584-c29f-8c6e8a81e474"
      },
      "execution_count": null,
      "outputs": [
        {
          "output_type": "execute_result",
          "data": {
            "text/plain": [
              "(541909, 8)"
            ]
          },
          "metadata": {},
          "execution_count": 29
        }
      ]
    },
    {
      "cell_type": "code",
      "source": [
        "#Information about the varaibles\n",
        "data.info()"
      ],
      "metadata": {
        "colab": {
          "base_uri": "https://localhost:8080/"
        },
        "id": "pWevwx2AvKQT",
        "outputId": "fb78cd6f-d171-4700-e4f7-7354ed069c48"
      },
      "execution_count": null,
      "outputs": [
        {
          "output_type": "stream",
          "name": "stdout",
          "text": [
            "<class 'pandas.core.frame.DataFrame'>\n",
            "RangeIndex: 541909 entries, 0 to 541908\n",
            "Data columns (total 8 columns):\n",
            " #   Column       Non-Null Count   Dtype         \n",
            "---  ------       --------------   -----         \n",
            " 0   InvoiceNo    541909 non-null  object        \n",
            " 1   StockCode    541909 non-null  object        \n",
            " 2   Description  540455 non-null  object        \n",
            " 3   Quantity     541909 non-null  int64         \n",
            " 4   InvoiceDate  541909 non-null  datetime64[ns]\n",
            " 5   UnitPrice    541909 non-null  float64       \n",
            " 6   CustomerID   406829 non-null  float64       \n",
            " 7   Country      541909 non-null  object        \n",
            "dtypes: datetime64[ns](1), float64(2), int64(1), object(4)\n",
            "memory usage: 33.1+ MB\n"
          ]
        }
      ]
    },
    {
      "cell_type": "code",
      "source": [
        "#Statistical Description of the Data\n",
        "data.describe()"
      ],
      "metadata": {
        "colab": {
          "base_uri": "https://localhost:8080/",
          "height": 300
        },
        "id": "5vu-jCskvU7R",
        "outputId": "297a774d-caca-4a6f-b26d-b882cce5b20b"
      },
      "execution_count": null,
      "outputs": [
        {
          "output_type": "execute_result",
          "data": {
            "text/plain": [
              "            Quantity                    InvoiceDate      UnitPrice  \\\n",
              "count  541909.000000                         541909  541909.000000   \n",
              "mean        9.552250  2011-07-04 13:34:57.156386048       4.611114   \n",
              "min    -80995.000000            2010-12-01 08:26:00  -11062.060000   \n",
              "25%         1.000000            2011-03-28 11:34:00       1.250000   \n",
              "50%         3.000000            2011-07-19 17:17:00       2.080000   \n",
              "75%        10.000000            2011-10-19 11:27:00       4.130000   \n",
              "max     80995.000000            2011-12-09 12:50:00   38970.000000   \n",
              "std       218.081158                            NaN      96.759853   \n",
              "\n",
              "          CustomerID  \n",
              "count  406829.000000  \n",
              "mean    15287.690570  \n",
              "min     12346.000000  \n",
              "25%     13953.000000  \n",
              "50%     15152.000000  \n",
              "75%     16791.000000  \n",
              "max     18287.000000  \n",
              "std      1713.600303  "
            ],
            "text/html": [
              "\n",
              "  <div id=\"df-f979fa6c-5417-4c42-a2fd-82debe1b3ac7\" class=\"colab-df-container\">\n",
              "    <div>\n",
              "<style scoped>\n",
              "    .dataframe tbody tr th:only-of-type {\n",
              "        vertical-align: middle;\n",
              "    }\n",
              "\n",
              "    .dataframe tbody tr th {\n",
              "        vertical-align: top;\n",
              "    }\n",
              "\n",
              "    .dataframe thead th {\n",
              "        text-align: right;\n",
              "    }\n",
              "</style>\n",
              "<table border=\"1\" class=\"dataframe\">\n",
              "  <thead>\n",
              "    <tr style=\"text-align: right;\">\n",
              "      <th></th>\n",
              "      <th>Quantity</th>\n",
              "      <th>InvoiceDate</th>\n",
              "      <th>UnitPrice</th>\n",
              "      <th>CustomerID</th>\n",
              "    </tr>\n",
              "  </thead>\n",
              "  <tbody>\n",
              "    <tr>\n",
              "      <th>count</th>\n",
              "      <td>541909.000000</td>\n",
              "      <td>541909</td>\n",
              "      <td>541909.000000</td>\n",
              "      <td>406829.000000</td>\n",
              "    </tr>\n",
              "    <tr>\n",
              "      <th>mean</th>\n",
              "      <td>9.552250</td>\n",
              "      <td>2011-07-04 13:34:57.156386048</td>\n",
              "      <td>4.611114</td>\n",
              "      <td>15287.690570</td>\n",
              "    </tr>\n",
              "    <tr>\n",
              "      <th>min</th>\n",
              "      <td>-80995.000000</td>\n",
              "      <td>2010-12-01 08:26:00</td>\n",
              "      <td>-11062.060000</td>\n",
              "      <td>12346.000000</td>\n",
              "    </tr>\n",
              "    <tr>\n",
              "      <th>25%</th>\n",
              "      <td>1.000000</td>\n",
              "      <td>2011-03-28 11:34:00</td>\n",
              "      <td>1.250000</td>\n",
              "      <td>13953.000000</td>\n",
              "    </tr>\n",
              "    <tr>\n",
              "      <th>50%</th>\n",
              "      <td>3.000000</td>\n",
              "      <td>2011-07-19 17:17:00</td>\n",
              "      <td>2.080000</td>\n",
              "      <td>15152.000000</td>\n",
              "    </tr>\n",
              "    <tr>\n",
              "      <th>75%</th>\n",
              "      <td>10.000000</td>\n",
              "      <td>2011-10-19 11:27:00</td>\n",
              "      <td>4.130000</td>\n",
              "      <td>16791.000000</td>\n",
              "    </tr>\n",
              "    <tr>\n",
              "      <th>max</th>\n",
              "      <td>80995.000000</td>\n",
              "      <td>2011-12-09 12:50:00</td>\n",
              "      <td>38970.000000</td>\n",
              "      <td>18287.000000</td>\n",
              "    </tr>\n",
              "    <tr>\n",
              "      <th>std</th>\n",
              "      <td>218.081158</td>\n",
              "      <td>NaN</td>\n",
              "      <td>96.759853</td>\n",
              "      <td>1713.600303</td>\n",
              "    </tr>\n",
              "  </tbody>\n",
              "</table>\n",
              "</div>\n",
              "    <div class=\"colab-df-buttons\">\n",
              "\n",
              "  <div class=\"colab-df-container\">\n",
              "    <button class=\"colab-df-convert\" onclick=\"convertToInteractive('df-f979fa6c-5417-4c42-a2fd-82debe1b3ac7')\"\n",
              "            title=\"Convert this dataframe to an interactive table.\"\n",
              "            style=\"display:none;\">\n",
              "\n",
              "  <svg xmlns=\"http://www.w3.org/2000/svg\" height=\"24px\" viewBox=\"0 -960 960 960\">\n",
              "    <path d=\"M120-120v-720h720v720H120Zm60-500h600v-160H180v160Zm220 220h160v-160H400v160Zm0 220h160v-160H400v160ZM180-400h160v-160H180v160Zm440 0h160v-160H620v160ZM180-180h160v-160H180v160Zm440 0h160v-160H620v160Z\"/>\n",
              "  </svg>\n",
              "    </button>\n",
              "\n",
              "  <style>\n",
              "    .colab-df-container {\n",
              "      display:flex;\n",
              "      gap: 12px;\n",
              "    }\n",
              "\n",
              "    .colab-df-convert {\n",
              "      background-color: #E8F0FE;\n",
              "      border: none;\n",
              "      border-radius: 50%;\n",
              "      cursor: pointer;\n",
              "      display: none;\n",
              "      fill: #1967D2;\n",
              "      height: 32px;\n",
              "      padding: 0 0 0 0;\n",
              "      width: 32px;\n",
              "    }\n",
              "\n",
              "    .colab-df-convert:hover {\n",
              "      background-color: #E2EBFA;\n",
              "      box-shadow: 0px 1px 2px rgba(60, 64, 67, 0.3), 0px 1px 3px 1px rgba(60, 64, 67, 0.15);\n",
              "      fill: #174EA6;\n",
              "    }\n",
              "\n",
              "    .colab-df-buttons div {\n",
              "      margin-bottom: 4px;\n",
              "    }\n",
              "\n",
              "    [theme=dark] .colab-df-convert {\n",
              "      background-color: #3B4455;\n",
              "      fill: #D2E3FC;\n",
              "    }\n",
              "\n",
              "    [theme=dark] .colab-df-convert:hover {\n",
              "      background-color: #434B5C;\n",
              "      box-shadow: 0px 1px 3px 1px rgba(0, 0, 0, 0.15);\n",
              "      filter: drop-shadow(0px 1px 2px rgba(0, 0, 0, 0.3));\n",
              "      fill: #FFFFFF;\n",
              "    }\n",
              "  </style>\n",
              "\n",
              "    <script>\n",
              "      const buttonEl =\n",
              "        document.querySelector('#df-f979fa6c-5417-4c42-a2fd-82debe1b3ac7 button.colab-df-convert');\n",
              "      buttonEl.style.display =\n",
              "        google.colab.kernel.accessAllowed ? 'block' : 'none';\n",
              "\n",
              "      async function convertToInteractive(key) {\n",
              "        const element = document.querySelector('#df-f979fa6c-5417-4c42-a2fd-82debe1b3ac7');\n",
              "        const dataTable =\n",
              "          await google.colab.kernel.invokeFunction('convertToInteractive',\n",
              "                                                    [key], {});\n",
              "        if (!dataTable) return;\n",
              "\n",
              "        const docLinkHtml = 'Like what you see? Visit the ' +\n",
              "          '<a target=\"_blank\" href=https://colab.research.google.com/notebooks/data_table.ipynb>data table notebook</a>'\n",
              "          + ' to learn more about interactive tables.';\n",
              "        element.innerHTML = '';\n",
              "        dataTable['output_type'] = 'display_data';\n",
              "        await google.colab.output.renderOutput(dataTable, element);\n",
              "        const docLink = document.createElement('div');\n",
              "        docLink.innerHTML = docLinkHtml;\n",
              "        element.appendChild(docLink);\n",
              "      }\n",
              "    </script>\n",
              "  </div>\n",
              "\n",
              "\n",
              "<div id=\"df-ee548ce6-d57d-4fe0-8525-072545b35d50\">\n",
              "  <button class=\"colab-df-quickchart\" onclick=\"quickchart('df-ee548ce6-d57d-4fe0-8525-072545b35d50')\"\n",
              "            title=\"Suggest charts\"\n",
              "            style=\"display:none;\">\n",
              "\n",
              "<svg xmlns=\"http://www.w3.org/2000/svg\" height=\"24px\"viewBox=\"0 0 24 24\"\n",
              "     width=\"24px\">\n",
              "    <g>\n",
              "        <path d=\"M19 3H5c-1.1 0-2 .9-2 2v14c0 1.1.9 2 2 2h14c1.1 0 2-.9 2-2V5c0-1.1-.9-2-2-2zM9 17H7v-7h2v7zm4 0h-2V7h2v10zm4 0h-2v-4h2v4z\"/>\n",
              "    </g>\n",
              "</svg>\n",
              "  </button>\n",
              "\n",
              "<style>\n",
              "  .colab-df-quickchart {\n",
              "      --bg-color: #E8F0FE;\n",
              "      --fill-color: #1967D2;\n",
              "      --hover-bg-color: #E2EBFA;\n",
              "      --hover-fill-color: #174EA6;\n",
              "      --disabled-fill-color: #AAA;\n",
              "      --disabled-bg-color: #DDD;\n",
              "  }\n",
              "\n",
              "  [theme=dark] .colab-df-quickchart {\n",
              "      --bg-color: #3B4455;\n",
              "      --fill-color: #D2E3FC;\n",
              "      --hover-bg-color: #434B5C;\n",
              "      --hover-fill-color: #FFFFFF;\n",
              "      --disabled-bg-color: #3B4455;\n",
              "      --disabled-fill-color: #666;\n",
              "  }\n",
              "\n",
              "  .colab-df-quickchart {\n",
              "    background-color: var(--bg-color);\n",
              "    border: none;\n",
              "    border-radius: 50%;\n",
              "    cursor: pointer;\n",
              "    display: none;\n",
              "    fill: var(--fill-color);\n",
              "    height: 32px;\n",
              "    padding: 0;\n",
              "    width: 32px;\n",
              "  }\n",
              "\n",
              "  .colab-df-quickchart:hover {\n",
              "    background-color: var(--hover-bg-color);\n",
              "    box-shadow: 0 1px 2px rgba(60, 64, 67, 0.3), 0 1px 3px 1px rgba(60, 64, 67, 0.15);\n",
              "    fill: var(--button-hover-fill-color);\n",
              "  }\n",
              "\n",
              "  .colab-df-quickchart-complete:disabled,\n",
              "  .colab-df-quickchart-complete:disabled:hover {\n",
              "    background-color: var(--disabled-bg-color);\n",
              "    fill: var(--disabled-fill-color);\n",
              "    box-shadow: none;\n",
              "  }\n",
              "\n",
              "  .colab-df-spinner {\n",
              "    border: 2px solid var(--fill-color);\n",
              "    border-color: transparent;\n",
              "    border-bottom-color: var(--fill-color);\n",
              "    animation:\n",
              "      spin 1s steps(1) infinite;\n",
              "  }\n",
              "\n",
              "  @keyframes spin {\n",
              "    0% {\n",
              "      border-color: transparent;\n",
              "      border-bottom-color: var(--fill-color);\n",
              "      border-left-color: var(--fill-color);\n",
              "    }\n",
              "    20% {\n",
              "      border-color: transparent;\n",
              "      border-left-color: var(--fill-color);\n",
              "      border-top-color: var(--fill-color);\n",
              "    }\n",
              "    30% {\n",
              "      border-color: transparent;\n",
              "      border-left-color: var(--fill-color);\n",
              "      border-top-color: var(--fill-color);\n",
              "      border-right-color: var(--fill-color);\n",
              "    }\n",
              "    40% {\n",
              "      border-color: transparent;\n",
              "      border-right-color: var(--fill-color);\n",
              "      border-top-color: var(--fill-color);\n",
              "    }\n",
              "    60% {\n",
              "      border-color: transparent;\n",
              "      border-right-color: var(--fill-color);\n",
              "    }\n",
              "    80% {\n",
              "      border-color: transparent;\n",
              "      border-right-color: var(--fill-color);\n",
              "      border-bottom-color: var(--fill-color);\n",
              "    }\n",
              "    90% {\n",
              "      border-color: transparent;\n",
              "      border-bottom-color: var(--fill-color);\n",
              "    }\n",
              "  }\n",
              "</style>\n",
              "\n",
              "  <script>\n",
              "    async function quickchart(key) {\n",
              "      const quickchartButtonEl =\n",
              "        document.querySelector('#' + key + ' button');\n",
              "      quickchartButtonEl.disabled = true;  // To prevent multiple clicks.\n",
              "      quickchartButtonEl.classList.add('colab-df-spinner');\n",
              "      try {\n",
              "        const charts = await google.colab.kernel.invokeFunction(\n",
              "            'suggestCharts', [key], {});\n",
              "      } catch (error) {\n",
              "        console.error('Error during call to suggestCharts:', error);\n",
              "      }\n",
              "      quickchartButtonEl.classList.remove('colab-df-spinner');\n",
              "      quickchartButtonEl.classList.add('colab-df-quickchart-complete');\n",
              "    }\n",
              "    (() => {\n",
              "      let quickchartButtonEl =\n",
              "        document.querySelector('#df-ee548ce6-d57d-4fe0-8525-072545b35d50 button');\n",
              "      quickchartButtonEl.style.display =\n",
              "        google.colab.kernel.accessAllowed ? 'block' : 'none';\n",
              "    })();\n",
              "  </script>\n",
              "</div>\n",
              "\n",
              "    </div>\n",
              "  </div>\n"
            ],
            "application/vnd.google.colaboratory.intrinsic+json": {
              "type": "dataframe",
              "summary": "{\n  \"name\": \"data\",\n  \"rows\": 8,\n  \"fields\": [\n    {\n      \"column\": \"Quantity\",\n      \"properties\": {\n        \"dtype\": \"number\",\n        \"std\": 196412.4226608867,\n        \"min\": -80995.0,\n        \"max\": 541909.0,\n        \"num_unique_values\": 8,\n        \"samples\": [\n          9.55224954743324,\n          10.0,\n          541909.0\n        ],\n        \"semantic_type\": \"\",\n        \"description\": \"\"\n      }\n    },\n    {\n      \"column\": \"InvoiceDate\",\n      \"properties\": {\n        \"dtype\": \"date\",\n        \"min\": \"1970-01-01 00:00:00.000541909\",\n        \"max\": \"2011-12-09 12:50:00\",\n        \"num_unique_values\": 7,\n        \"samples\": [\n          \"541909\",\n          \"2011-07-04 13:34:57.156386048\",\n          \"2011-10-19 11:27:00\"\n        ],\n        \"semantic_type\": \"\",\n        \"description\": \"\"\n      }\n    },\n    {\n      \"column\": \"UnitPrice\",\n      \"properties\": {\n        \"dtype\": \"number\",\n        \"std\": 190752.07570771928,\n        \"min\": -11062.06,\n        \"max\": 541909.0,\n        \"num_unique_values\": 8,\n        \"samples\": [\n          4.611113626088513,\n          4.13,\n          541909.0\n        ],\n        \"semantic_type\": \"\",\n        \"description\": \"\"\n      }\n    },\n    {\n      \"column\": \"CustomerID\",\n      \"properties\": {\n        \"dtype\": \"number\",\n        \"std\": 139204.1680069419,\n        \"min\": 1713.600303321598,\n        \"max\": 406829.0,\n        \"num_unique_values\": 8,\n        \"samples\": [\n          15287.690570239585,\n          16791.0,\n          406829.0\n        ],\n        \"semantic_type\": \"\",\n        \"description\": \"\"\n      }\n    }\n  ]\n}"
            }
          },
          "metadata": {},
          "execution_count": 31
        }
      ]
    },
    {
      "cell_type": "code",
      "source": [
        "#Total null values per column\n",
        "data.isnull().sum()"
      ],
      "metadata": {
        "colab": {
          "base_uri": "https://localhost:8080/"
        },
        "id": "OZ5ZmGtYvbOR",
        "outputId": "8d5c2691-4afb-47b2-9697-b4f909195b2d"
      },
      "execution_count": null,
      "outputs": [
        {
          "output_type": "execute_result",
          "data": {
            "text/plain": [
              "InvoiceNo           0\n",
              "StockCode           0\n",
              "Description      1454\n",
              "Quantity            0\n",
              "InvoiceDate         0\n",
              "UnitPrice           0\n",
              "CustomerID     135080\n",
              "Country             0\n",
              "dtype: int64"
            ]
          },
          "metadata": {},
          "execution_count": 32
        }
      ]
    },
    {
      "cell_type": "code",
      "source": [
        "data.dropna(inplace=True)\n",
        "data.isnull().sum()"
      ],
      "metadata": {
        "colab": {
          "base_uri": "https://localhost:8080/"
        },
        "id": "QPEJg04hvKWW",
        "outputId": "9aea63e1-0ef9-4aa8-f97f-99743f02a19d"
      },
      "execution_count": null,
      "outputs": [
        {
          "output_type": "execute_result",
          "data": {
            "text/plain": [
              "InvoiceNo      0\n",
              "StockCode      0\n",
              "Description    0\n",
              "Quantity       0\n",
              "InvoiceDate    0\n",
              "UnitPrice      0\n",
              "CustomerID     0\n",
              "Country        0\n",
              "dtype: int64"
            ]
          },
          "metadata": {},
          "execution_count": 33
        }
      ]
    },
    {
      "cell_type": "code",
      "source": [
        "data.nunique()"
      ],
      "metadata": {
        "colab": {
          "base_uri": "https://localhost:8080/"
        },
        "id": "pVVRfhnxwJpe",
        "outputId": "acdb70a5-2a0d-42b3-cac4-ae0c937f74a0"
      },
      "execution_count": null,
      "outputs": [
        {
          "output_type": "execute_result",
          "data": {
            "text/plain": [
              "InvoiceNo      22190\n",
              "StockCode       3684\n",
              "Description     3896\n",
              "Quantity         436\n",
              "InvoiceDate    20460\n",
              "UnitPrice        620\n",
              "CustomerID      4372\n",
              "Country           37\n",
              "dtype: int64"
            ]
          },
          "metadata": {},
          "execution_count": 34
        }
      ]
    },
    {
      "cell_type": "code",
      "source": [
        "data['TotalSpent'] = data['UnitPrice'] * data['Quantity']"
      ],
      "metadata": {
        "id": "Yy2VcRBLv0os"
      },
      "execution_count": null,
      "outputs": []
    },
    {
      "cell_type": "code",
      "source": [
        "data.groupby('CustomerID')['TotalSpent'].sum().sort_values(ascending=False).head(10)"
      ],
      "metadata": {
        "colab": {
          "base_uri": "https://localhost:8080/"
        },
        "id": "QMl3nCDbvZ5_",
        "outputId": "ea2b57ed-ead9-43f2-9aea-d665fcb76c22"
      },
      "execution_count": null,
      "outputs": [
        {
          "output_type": "execute_result",
          "data": {
            "text/plain": [
              "CustomerID\n",
              "14646.0    279489.02\n",
              "18102.0    256438.49\n",
              "17450.0    187482.17\n",
              "14911.0    132572.62\n",
              "12415.0    123725.45\n",
              "14156.0    113384.14\n",
              "17511.0     88125.38\n",
              "16684.0     65892.08\n",
              "13694.0     62653.10\n",
              "15311.0     59419.34\n",
              "Name: TotalSpent, dtype: float64"
            ]
          },
          "metadata": {},
          "execution_count": 36
        }
      ]
    },
    {
      "cell_type": "code",
      "source": [],
      "metadata": {
        "id": "kJ-qkRneBz4S"
      },
      "execution_count": null,
      "outputs": []
    },
    {
      "cell_type": "code",
      "source": [
        "#Data Exploration\n",
        "data['airline_sentiment'].value_counts()"
      ],
      "metadata": {
        "colab": {
          "base_uri": "https://localhost:8080/"
        },
        "id": "YW1PF1rAvkMA",
        "outputId": "dcaaf32e-bf64-4c0c-a86f-c7c80be23dfe"
      },
      "execution_count": null,
      "outputs": [
        {
          "output_type": "execute_result",
          "data": {
            "text/plain": [
              "airline_sentiment\n",
              "negative    9178\n",
              "neutral     3099\n",
              "positive    2363\n",
              "Name: count, dtype: int64"
            ]
          },
          "metadata": {},
          "execution_count": 7
        }
      ]
    },
    {
      "cell_type": "code",
      "source": [
        "sentimentdf = data['airline_sentiment'].value_counts()"
      ],
      "metadata": {
        "id": "iKEIjX85xg1X"
      },
      "execution_count": null,
      "outputs": []
    },
    {
      "cell_type": "code",
      "source": [
        "#Plotting the Airline Sentiment\n",
        "plt.figure(figsize=(10,6))\n",
        "colors = ['#FF6F61', '#6B5B95', '#88B04B']\n",
        "sns.barplot(x=sentimentdf.index, y=sentimentdf.values, palette=colors)\n",
        "plt.xticks(rotation=45)\n",
        "plt.title('Airline Sentiment')\n",
        "plt.xlabel('Sentiment')\n",
        "plt.ylabel('Count')\n",
        "plt.show()"
      ],
      "metadata": {
        "colab": {
          "base_uri": "https://localhost:8080/",
          "height": 712
        },
        "id": "E0JKZiblyWjg",
        "outputId": "b9698f92-44d8-44c6-c398-9a5eb13f0c41"
      },
      "execution_count": null,
      "outputs": [
        {
          "output_type": "stream",
          "name": "stderr",
          "text": [
            "<ipython-input-9-5c3c8d7c4012>:4: FutureWarning: \n",
            "\n",
            "Passing `palette` without assigning `hue` is deprecated and will be removed in v0.14.0. Assign the `x` variable to `hue` and set `legend=False` for the same effect.\n",
            "\n",
            "  sns.barplot(x=sentimentdf.index, y=sentimentdf.values, palette=colors)\n"
          ]
        },
        {
          "output_type": "display_data",
          "data": {
            "text/plain": [
              "<Figure size 1000x600 with 1 Axes>"
            ],
            "image/png": "[encoded data removed]"
          },
          "metadata": {}
        }
      ]
    },
    {
      "cell_type": "code",
      "source": [
        "# Pie Chart\n",
        "Sentiment = data['airline_sentiment'].value_counts()\n",
        "count = data['airline_sentiment'].value_counts().values\n",
        "plt.subplot(1, 2, 2)\n",
        "colors = ['#ff9999', '#66b3ff', '#99ff99']\n",
        "plt.pie(count, labels=Sentiment, autopct='%1.1f%%', colors=colors, startangle=90)\n",
        "plt.axis('equal')\n",
        "plt.title('Airline Sentiment (Pie Chart)')"
      ],
      "metadata": {
        "colab": {
          "base_uri": "https://localhost:8080/",
          "height": 446
        },
        "id": "xaWOHiIRyXHi",
        "outputId": "24288ddf-f5f5-4c65-8462-bcf3350c1d7e"
      },
      "execution_count": null,
      "outputs": [
        {
          "output_type": "execute_result",
          "data": {
            "text/plain": [
              "Text(0.5, 1.0, 'Airline Sentiment (Pie Chart)')"
            ]
          },
          "metadata": {},
          "execution_count": 10
        },
        {
          "output_type": "display_data",
          "data": {
            "text/plain": [
              "<Figure size 640x480 with 1 Axes>"
            ],
            "image/png": "[encoded data removed]"
          },
          "metadata": {}
        }
      ]
    },
    {
      "cell_type": "code",
      "source": [],
      "metadata": {
        "id": "mFuGgl8ByXUz"
      },
      "execution_count": null,
      "outputs": []
    }
  ]
}